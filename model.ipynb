{
 "cells": [
  {
   "cell_type": "code",
   "execution_count": 1,
   "metadata": {},
   "outputs": [],
   "source": [
    "import reader\n",
    "import helpers\n",
    "import tensorflow as tf\n",
    "import tensorflow_hub as hub\n",
    "import tensorflow_text as text\n",
    "\n",
    "\n",
    "# df = reader.ReadData()\n",
    "\n",
    "# # Text pre processing\n",
    "# df[reader.title] = df[reader.title].apply(helpers.clean_text)\n",
    "# df[reader.description] = df[reader.Description].apply(helpers.clean_text)\n",
    "# df[reader.tags] = df[reader.tags].apply(helpers.clean_text)\n",
    "\n",
    "saved_model_path = \"smart_assignments_bert\"\n",
    "\n",
    "reloaded_model = tf.saved_model.load(saved_model_path)"
   ]
  },
  {
   "cell_type": "code",
   "execution_count": 2,
   "metadata": {},
   "outputs": [],
   "source": [
    "def map_probabilty_to_dict(res):\n",
    "    val = {}\n",
    "    for i in range(reader.num_labels):\n",
    "        val[reader.index_names[i]] = res[0][i]*100\n",
    "    return val"
   ]
  },
  {
   "cell_type": "code",
   "execution_count": 3,
   "metadata": {},
   "outputs": [],
   "source": [
    "def ReturnProbability(title):\n",
    "    input = [title] \n",
    "    res = reloaded_model(tf.constant(input)) \n",
    "    return map_probabilty_to_dict(res.numpy())"
   ]
  }
 ],
 "metadata": {
  "kernelspec": {
   "display_name": "tf",
   "language": "python",
   "name": "python3"
  },
  "language_info": {
   "codemirror_mode": {
    "name": "ipython",
    "version": 3
   },
   "file_extension": ".py",
   "mimetype": "text/x-python",
   "name": "python",
   "nbconvert_exporter": "python",
   "pygments_lexer": "ipython3",
   "version": "3.10.11"
  },
  "orig_nbformat": 4
 },
 "nbformat": 4,
 "nbformat_minor": 2
}
